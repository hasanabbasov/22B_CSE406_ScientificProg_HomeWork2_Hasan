{
 "cells": [
  {
   "cell_type": "code",
   "execution_count": null,
   "id": "559e7ab8-48a1-45e2-8d39-af6f97327bad",
   "metadata": {},
   "outputs": [],
   "source": [
    "def getHis(my_word):\n",
    "w = {} \n",
    "for i in my_word: \n",
    "if i not in w: \n",
    "w[i] = 1\n",
    "else:\n",
    "w[i] += 1\n",
    "return w"
   ]
  }
 ],
 "metadata": {
  "kernelspec": {
   "display_name": "Python 3 (ipykernel)",
   "language": "python",
   "name": "python3"
  },
  "language_info": {
   "codemirror_mode": {
    "name": "ipython",
    "version": 3
   },
   "file_extension": ".py",
   "mimetype": "text/x-python",
   "name": "python",
   "nbconvert_exporter": "python",
   "pygments_lexer": "ipython3",
   "version": "3.10.2"
  }
 },
 "nbformat": 4,
 "nbformat_minor": 5
}
