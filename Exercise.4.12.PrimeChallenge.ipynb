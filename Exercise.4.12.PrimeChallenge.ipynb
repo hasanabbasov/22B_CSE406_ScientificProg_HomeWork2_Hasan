{
 "cells": [
  {
   "cell_type": "code",
   "execution_count": null,
   "id": "82a4600a-ca4f-40d1-89ca-e8a8bd2892a3",
   "metadata": {},
   "outputs": [],
   "source": []
  }
 ],
 "metadata": {
  "kernelspec": {
   "display_name": "Python 3 (ipykernel)",
   "language": "python",
   "name": "python3"
  },
  "language_info": {
   "codemirror_mode": {
    "name": "ipython",
    "version": 3
   },
   "file_extension": ".py",
   "mimetype": "text/x-python",
   "name": "python",
   "nbconvert_exporter": "python",
   "pygments_lexer": "ipython3",
   "version": "3.10.2"
  }
 },
 "nbformat": 4,
 "nbformat_minor": 5
}
