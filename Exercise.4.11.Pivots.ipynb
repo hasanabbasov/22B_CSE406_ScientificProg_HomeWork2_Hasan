{
 "cells": [
  {
   "cell_type": "code",
   "execution_count": 45,
   "id": "e69aab31-4b99-4e53-9336-b2d42b374485",
   "metadata": {},
   "outputs": [
    {
     "ename": "SyntaxError",
     "evalue": "'return' outside function (2366315818.py, line 6)",
     "output_type": "error",
     "traceback": [
      "\u001b[1;36m  Input \u001b[1;32mIn [45]\u001b[1;36m\u001b[0m\n\u001b[1;33m    return ys[listSecond[i], list[0]]\u001b[0m\n\u001b[1;37m    ^\u001b[0m\n\u001b[1;31mSyntaxError\u001b[0m\u001b[1;31m:\u001b[0m 'return' outside function\n"
     ]
    }
   ],
   "source": [
    "list= [1]\n",
    "listSecond = [2,3,4,5,6,7,8]\n",
    "ys=[]\n",
    "for i in listSecond:\n",
    "    if listSecond[i] > list[0]:\n",
    "        return ys[listSecond[i], list[0]]\n",
    "        "
   ]
  },
  {
   "cell_type": "code",
   "execution_count": null,
   "id": "9411a198-7ec3-4315-aa45-42ced4bbf7c6",
   "metadata": {},
   "outputs": [],
   "source": []
  },
  {
   "cell_type": "code",
   "execution_count": null,
   "id": "826268d5-8abe-46ca-8967-5c15adc56c16",
   "metadata": {},
   "outputs": [],
   "source": []
  },
  {
   "cell_type": "code",
   "execution_count": null,
   "id": "d25eb502-467b-4629-866a-94f427fffcb5",
   "metadata": {},
   "outputs": [],
   "source": []
  }
 ],
 "metadata": {
  "kernelspec": {
   "display_name": "Python 3 (ipykernel)",
   "language": "python",
   "name": "python3"
  },
  "language_info": {
   "codemirror_mode": {
    "name": "ipython",
    "version": 3
   },
   "file_extension": ".py",
   "mimetype": "text/x-python",
   "name": "python",
   "nbconvert_exporter": "python",
   "pygments_lexer": "ipython3",
   "version": "3.10.2"
  }
 },
 "nbformat": 4,
 "nbformat_minor": 5
}
